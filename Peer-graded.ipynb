{
 "cells": [
  {
   "cell_type": "markdown",
   "id": "312b4c9d-1aa2-4c09-a5c6-1dc0e97b4e01",
   "metadata": {},
   "source": [
    "# My Jupyter Notebook on IBM Watson Studio"
   ]
  },
  {
   "cell_type": "markdown",
   "id": "737c0ce7-5d81-48d0-8f7b-33aae3230605",
   "metadata": {},
   "source": [
    "**Bianca Padilla-Alvarez**\n",
    "My desired occupation is Data Analyst"
   ]
  },
  {
   "cell_type": "markdown",
   "id": "2c67f835-3502-4802-8fba-776ae84cd4b1",
   "metadata": {},
   "source": [
    "*I am interested in data science because I have always liked to find out the reason why something is how it is and I would like to help businesses grow*"
   ]
  },
  {
   "cell_type": "markdown",
   "id": "5c0666eb-8879-4851-833f-31f6f9ae57d9",
   "metadata": {},
   "source": [
    "### The code in Cell shows a math problem."
   ]
  },
  {
   "cell_type": "code",
   "execution_count": 2,
   "id": "c0ee58d9-4a5d-40a8-abab-77330f329e3d",
   "metadata": {},
   "outputs": [
    {
     "data": {
      "text/plain": [
       "10"
      ]
     },
     "execution_count": 2,
     "metadata": {},
     "output_type": "execute_result"
    }
   ],
   "source": [
    "5+5"
   ]
  },
  {
   "cell_type": "markdown",
   "id": "7d9b1ef7-20ef-4012-a149-4bd85e1bffae",
   "metadata": {},
   "source": [
    "| RED | BLUE | ORANGE |\n",
    "| ------ | ------ | ------ |\n",
    "| 1 | 2 | 3 |\n",
    "\n",
    "\n",
    "~~STRICKTHROUGH TEXT.~~\n",
    "\n",
    "1. APPLE\n",
    "2. SAUCE\n",
    "3. FRUITS\n",
    "\n",
    "- ONE\n",
    "- TWO\n",
    "- THREE\n"
   ]
  }
 ],
 "metadata": {
  "kernelspec": {
   "display_name": "Python",
   "language": "python",
   "name": "conda-env-python-py"
  },
  "language_info": {
   "codemirror_mode": {
    "name": "ipython",
    "version": 3
   },
   "file_extension": ".py",
   "mimetype": "text/x-python",
   "name": "python",
   "nbconvert_exporter": "python",
   "pygments_lexer": "ipython3",
   "version": "3.7.12"
  }
 },
 "nbformat": 4,
 "nbformat_minor": 5
}
